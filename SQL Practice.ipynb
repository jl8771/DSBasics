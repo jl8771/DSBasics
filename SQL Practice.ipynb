{
 "cells": [
  {
   "cell_type": "code",
   "execution_count": 3,
   "metadata": {},
   "outputs": [],
   "source": [
    "%load_ext sql"
   ]
  },
  {
   "cell_type": "markdown",
   "metadata": {},
   "source": [
    "# EASY PROBLEMS"
   ]
  },
  {
   "cell_type": "markdown",
   "metadata": {},
   "source": [
    "### PROBLEM: Employees' Without Annual Review\n",
    "Return all employees who have never had an annual review. Your output should include the employee's first name, last name, hiring date, and termination date. List the most recently hired employees first.\n",
    "\n",
    "Tables: `uber_employees`, `uber_annual_review`\n",
    "\n",
    "`uber_employees`    | dtypes\n",
    "--------------------|---------\n",
    "first_name          | varchar\n",
    "last_name           | varchar\n",
    "id                  | int\n",
    "hire_date           | datetime\n",
    "termination_date    | datetime\n",
    "salary              | int\n",
    "\n",
    "<br/>\n",
    "\n",
    "`uber_annual_review`| dtypes\n",
    "--------------------|---------\n",
    "id                  | int\n",
    "emp_id              | int\n",
    "review_date         | datetime\n",
    "\n",
    "[Link to problem](https://platform.stratascratch.com/coding/2043-employees-without-annual-review)"
   ]
  },
  {
   "cell_type": "code",
   "execution_count": null,
   "metadata": {},
   "outputs": [],
   "source": [
    "%%sql\n",
    "SELECT DISTINCT e.first_name, e.last_name, e.hire_date, e.termination_date, a.review_date\n",
    "FROM uber_employees e LEFT JOIN uber_annual_review a\n",
    "ON e.id = a.emp_id\n",
    "WHERE a.review_date IS NULL\n",
    "ORDER BY e.hire_date DESC;"
   ]
  },
  {
   "cell_type": "code",
   "execution_count": null,
   "metadata": {},
   "outputs": [],
   "source": [
    "# Import your libraries\n",
    "import pandas as pd\n",
    "\n",
    "#Remove duplicate reviews except latest review\n",
    "uber_annual_review = uber_annual_review[~uber_annual_review['emp_id'].duplicated(keep='last')]\n",
    "#Rename id column\n",
    "uber_annual_review.rename(columns={'id': 'review_id', 'emp_id': 'emp_id', 'review_date': 'review_date'})\n",
    "#Merge dataframes\n",
    "df = uber_employees.merge(uber_annual_review, how='outer',left_on='id', right_on='emp_id')\n",
    "#Get rows where review_date does not exist\n",
    "df = df[df['review_date'].isna()]\n",
    "#Sort rows by output\n",
    "df.sort_values(by=['hire_date'], ascending=False, inplace=True)"
   ]
  },
  {
   "cell_type": "markdown",
   "metadata": {},
   "source": [
    "### PROBLEM: Find all records with words that start with the letter 'g'\n",
    "Find all records with words that start with the letter 'g'.   \n",
    "Output words1 and words2 if any of them satisfies the condition.\n",
    "\n",
    "Tables: `google_word_lists`\n",
    "\n",
    "`google_word_lists` | dtypes\n",
    "--------------------|---------\n",
    "id                  | int\n",
    "emp_id              | int\n",
    "\n",
    "[Link to problem](https://platform.stratascratch.com/coding/9806-find-all-records-with-words-that-start-with-the-letter-g)"
   ]
  },
  {
   "cell_type": "code",
   "execution_count": null,
   "metadata": {},
   "outputs": [],
   "source": [
    "%%sql\n",
    "SELECT *\n",
    "FROM google_word_lists\n",
    "WHERE words1 LIKE 'g%' OR words2 LIKE 'g%' OR words1 LIKE '%,g%' OR words2 LIKE '%,g%';"
   ]
  },
  {
   "cell_type": "code",
   "execution_count": null,
   "metadata": {},
   "outputs": [],
   "source": [
    "# Import your libraries\n",
    "import pandas as pd\n",
    "import regex as re\n",
    "\n",
    "# Concatenate words lists with comma delimiter to create combined word list\n",
    "df = (google_word_lists['words1'] + ',' + google_word_lists['words2']).to_frame(name='words')\n",
    "# Check for words that contain the character 'g' following the start of a string or a comma\n",
    "df = google_word_lists[df['words'].str.contains('(^|,)g', flags=re.IGNORECASE)]"
   ]
  },
  {
   "cell_type": "markdown",
   "metadata": {},
   "source": [
    "### PROBLEM: Customer Details\n",
    "Find the details of each customer regardless of whether the customer made an order. Output the customer's first name, last name, and the city along with the order details.\n",
    "You may have duplicate rows in your results due to a customer ordering several of the same items. Sort records based on the customer's first name and the order details in ascending order.\n",
    "\n",
    "Tables: `customers`, `orders`\n",
    "\n",
    "`customers`         | dtypes\n",
    "--------------------|---------\n",
    "id                  | int\n",
    "first_name          | varchar\n",
    "last_name           | varchar\n",
    "city                | varchar\n",
    "address             | varchar\n",
    "phone_number        | varchar\n",
    "\n",
    "<br/>\n",
    "\n",
    "`orders`            | dtypes\n",
    "--------------------|---------\n",
    "id                  | int\n",
    "cust_id             | int\n",
    "order_date          | datetime\n",
    "order_details       | varchar\n",
    "salary              | int\n",
    "\n",
    "[Link to problem](https://platform.stratascratch.com/coding/9891-customer-details)"
   ]
  },
  {
   "cell_type": "code",
   "execution_count": null,
   "metadata": {},
   "outputs": [],
   "source": [
    "%%sql\n",
    "SELECT c.first_name, c.last_name, c.city, o.order_details\n",
    "FROM customers c LEFT JOIN orders o\n",
    "ON c.id = o.cust_id\n",
    "ORDER BY c.first_name, o.order_details;"
   ]
  },
  {
   "cell_type": "code",
   "execution_count": null,
   "metadata": {},
   "outputs": [],
   "source": [
    "# Import your libraries\n",
    "import pandas as pd\n",
    "\n",
    "#Merge orders and customers DataFrames\n",
    "df = orders.merge(customers, how='outer', left_on='cust_id', right_on='id')\n",
    "#Get desired columns\n",
    "output = df.filter(['first_name', 'last_name', 'city', 'order_details'])\n",
    "#Sort by values in ascending order\n",
    "output.sort_values(['first_name', 'order_details'])"
   ]
  },
  {
   "cell_type": "markdown",
   "metadata": {},
   "source": [
    "### PROBLEM: Salaries Differences\n",
    "Write a query that calculates the difference between the highest salaries found in the marketing and engineering departments. Output just the absolute difference in salaries.\n",
    "\n",
    "Tables: `db_employee`, `db_dept`\n",
    "\n",
    "`db_employee`       | dtypes\n",
    "--------------------|---------\n",
    "id                  | int\n",
    "first_name          | varchar\n",
    "last_name           | varchar\n",
    "salary              | int\n",
    "department_id       | int\n",
    "email               | datetime\n",
    "\n",
    "<br/>\n",
    "\n",
    "`db_dept`           | dtypes\n",
    "--------------------|---------\n",
    "id                  | int\n",
    "department          | varchar\n",
    "\n",
    "[Link to problem](https://platform.stratascratch.com/coding/10308-salaries-differences)"
   ]
  },
  {
   "cell_type": "code",
   "execution_count": null,
   "metadata": {},
   "outputs": [],
   "source": [
    "%%sql\n",
    "SELECT ABS(e.eng_salary - m.mar_salary) AS \"absolute_difference\"\n",
    "FROM\n",
    "    (SELECT MAX(salary) AS eng_salary\n",
    "     FROM db_employee e LEFT JOIN db_dept d\n",
    "     ON e.department_id = d.id\n",
    "     WHERE d.department = 'engineering') AS e,\n",
    "    (SELECT MAX(salary) AS mar_salary\n",
    "     FROM db_employee e LEFT JOIN db_dept d\n",
    "     ON e.department_id = d.id\n",
    "     WHERE d.department = 'marketing') AS m;"
   ]
  },
  {
   "cell_type": "code",
   "execution_count": null,
   "metadata": {},
   "outputs": [],
   "source": [
    "# Import your libraries\n",
    "import pandas as pd\n",
    "\n",
    "#Get and store department IDs\n",
    "eng_dept_id = db_dept[db_dept['department']=='engineering']['id'].values[0]\n",
    "mar_dept_id = db_dept[db_dept['department']=='marketing']['id'].values[0]\n",
    "#Get list of employees who belong to each department\n",
    "df_eng = db_employee[db_employee['department_id'] == eng_dept_id]\n",
    "df_mar = db_employee[db_employee['department_id'] == mar_dept_id]\n",
    "#Find max salary in each department\n",
    "max_eng = df_eng['salary'].max()\n",
    "max_mar = df_mar['salary'].max()\n",
    "#Create output dataframe\n",
    "output = pd.DataFrame(columns=['salary_difference'])\n",
    "output.loc[0] = abs(max_eng - max_mar)"
   ]
  },
  {
   "cell_type": "markdown",
   "metadata": {},
   "source": [
    "### PROBLEM: Find all companies with more than 10 employees\n",
    "Find all companies with more than 10 employees. Output all columns.\n",
    "\n",
    "Tables: `google_adwords_earnings`\n",
    "\n",
    "`google_adwords_earnings`   | dtypes\n",
    "----------------------------|---------\n",
    "business_type               | varchar\n",
    "n_employees                 | int\n",
    "year                        | int\n",
    "adwords_earnings            | int\n",
    "\n",
    "[Link to problem](https://platform.stratascratch.com/coding/9807-find-all-companies-with-more-than-10-employees)"
   ]
  },
  {
   "cell_type": "code",
   "execution_count": null,
   "metadata": {},
   "outputs": [],
   "source": [
    "%%sql\n",
    "SELECT *\n",
    "FROM google_adwords_earnings\n",
    "WHERE n_employees > 10;"
   ]
  },
  {
   "cell_type": "code",
   "execution_count": null,
   "metadata": {},
   "outputs": [],
   "source": [
    "# Import your libraries\n",
    "import pandas as pd\n",
    "\n",
    "output = google_adwords_earnings[google_adwords_earnings['n_employees']>10]"
   ]
  },
  {
   "cell_type": "markdown",
   "metadata": {},
   "source": [
    "### PROBLEM: Finding Updated Records\n",
    "We have a table with employees and their salaries, however, some of the records are old and contain outdated salary information. Find the current salary of each employee assuming that salaries increase each year. Output their id, first name, last name, department ID, and current salary. Order your list by employee ID in ascending order.\n",
    "\n",
    "Tables: `ms_employee_salary`\n",
    "\n",
    "`ms_employee_salary`   | dtypes\n",
    "-----------------------|---------\n",
    "id                     | int\n",
    "first_name             | varchar\n",
    "last_name              | varchar\n",
    "salary                 | int\n",
    "department_id          | int\n",
    "\n",
    "[Link to problem](https://platform.stratascratch.com/coding/10299-finding-updated-records)"
   ]
  },
  {
   "cell_type": "code",
   "execution_count": null,
   "metadata": {},
   "outputs": [],
   "source": [
    "%%sql\n",
    "SELECT id, first_name, last_name, department_id, MAX(salary)\n",
    "FROM ms_employee_salary\n",
    "GROUP BY id, first_name, last_name, department_id\n",
    "ORDER BY id;"
   ]
  },
  {
   "cell_type": "code",
   "execution_count": null,
   "metadata": {},
   "outputs": [],
   "source": [
    "# Import your libraries\n",
    "import pandas as pd\n",
    "\n",
    "#Sort by descending salary, ignoring index\n",
    "ms_employee_salary = ms_employee_salary.sort_values(by='salary', ignore_index=True, ascending=False)\n",
    "#Keep highest salary values for duplicated records\n",
    "df = ms_employee_salary[~ms_employee_salary['id'].duplicated(keep='first')]\n",
    "#Resort by id\n",
    "df.sort_values('id')"
   ]
  },
  {
   "cell_type": "markdown",
   "metadata": {},
   "source": [
    "### PROBLEM: Average Salaries\n",
    "Compare each employee's salary with the average salary of the corresponding department.\n",
    "Output the department, first name, and salary of employees along with the average salary of that department.\n",
    "\n",
    "Tables: `employee`\n",
    "\n",
    "`employee`              | dtypes\n",
    "------------------------|---------\n",
    "id                      | int\n",
    "first_name              | varchar\n",
    "last_name               | varchar\n",
    "age                     | int\n",
    "sex                     | varchar\n",
    "employee_title          | varchar\n",
    "department              | varchar\n",
    "salary                  | int\n",
    "target                  | int\n",
    "bonus                   | int\n",
    "email                   | varchar\n",
    "city                    | varchar\n",
    "address                 | varchar\n",
    "manager_id              | int\n",
    "\n",
    "[Link to problem](https://platform.stratascratch.com/coding/9917-average-salaries)"
   ]
  },
  {
   "cell_type": "code",
   "execution_count": null,
   "metadata": {},
   "outputs": [],
   "source": [
    "SELECT department, first_name, salary, AVG(SALARY) OVER(PARTITION BY department) as \"Average Salary\"\n",
    "FROM employee"
   ]
  },
  {
   "cell_type": "code",
   "execution_count": null,
   "metadata": {},
   "outputs": [],
   "source": [
    "# Import your libraries\n",
    "import pandas as pd\n",
    "\n",
    "#Calculate the mean of each department, add as new column\n",
    "employee['avg salary'] = employee.groupby('department')['salary'].transform('mean')\n",
    "#Get desired columns and sort by department for aesthetics\n",
    "employee.filter(['department', 'first_name', 'salary', 'avg salary']).sort_values('department')"
   ]
  },
  {
   "cell_type": "markdown",
   "metadata": {},
   "source": [
    "### PROBLEM: Order Details\n",
    "Find order details made by Jill and Eva.\n",
    "Consider the Jill and Eva as first names of customers.\n",
    "Output the order date, details and cost along with the first name.\n",
    "Order records based on the customer id in ascending order.\n",
    "\n",
    "Tables: `customers`, `orders`\n",
    "\n",
    "`customers`         | dtypes\n",
    "--------------------|---------\n",
    "id                  | int\n",
    "first_name          | varchar\n",
    "last_name           | varchar\n",
    "city                | varchar\n",
    "address             | varchar\n",
    "phone_number        | varchar\n",
    "\n",
    "<br/>\n",
    "\n",
    "`orders`            | dtypes\n",
    "--------------------|---------\n",
    "id                  | int\n",
    "cust_id             | int\n",
    "order_date          | datetime\n",
    "order_details       | varchar\n",
    "salary              | int\n",
    "\n",
    "[Link to problem](https://platform.stratascratch.com/coding/9913-order-details)"
   ]
  },
  {
   "cell_type": "code",
   "execution_count": null,
   "metadata": {},
   "outputs": [],
   "source": [
    "%%sql\n",
    "SELECT c.first_name, o.order_date, o.order_details, o.total_order_cost\n",
    "FROM customers c RIGHT JOIN orders o\n",
    "ON c.id = o.cust_id\n",
    "WHERE c.first_name LIKE '%Eva%' OR c.first_name LIKE '%Jill%';"
   ]
  },
  {
   "cell_type": "code",
   "execution_count": null,
   "metadata": {},
   "outputs": [],
   "source": [
    "# Import your libraries\n",
    "import pandas as pd\n",
    "\n",
    "#Merge orders and customers DataFrames\n",
    "df = orders.merge(customers, how='right', left_on='cust_id', right_on='id')\n",
    "#Get desired columns\n",
    "df = df.filter(['first_name', 'order_date', 'order_details', 'total_order_cost'])\n",
    "#Get orders where first name is 'Jill'\n",
    "df1 = df[df['first_name'] == 'Jill']\n",
    "#Get orders where first name is 'Eva'\n",
    "df2 = df[df['first_name'] == 'Eva']\n",
    "#Concatenate DataFrames to get where first name is 'Jill' or 'Eva'\n",
    "output = pd.concat([df1, df2])"
   ]
  },
  {
   "cell_type": "markdown",
   "metadata": {},
   "source": [
    "### PROBLEM: Total Cost Of Orders\n",
    "Find the total cost of each customer's orders. Output customer's id, first name, and the total order cost. Order records by customer's first name alphabetically.\n",
    "\n",
    "Tables: `table1`, `table2`\n",
    "\n",
    "Tables: `customers`, `orders`\n",
    "\n",
    "`customers`         | dtypes\n",
    "--------------------|---------\n",
    "id                  | int\n",
    "first_name          | varchar\n",
    "last_name           | varchar\n",
    "city                | varchar\n",
    "address             | varchar\n",
    "phone_number        | varchar\n",
    "\n",
    "<br/>\n",
    "\n",
    "`orders`            | dtypes\n",
    "--------------------|---------\n",
    "id                  | int\n",
    "cust_id             | int\n",
    "order_date          | datetime\n",
    "order_details       | varchar\n",
    "salary              | int\n",
    "\n",
    "[Link to problem](https://platform.stratascratch.com/coding/10183-total-cost-of-orders)"
   ]
  },
  {
   "cell_type": "code",
   "execution_count": null,
   "metadata": {},
   "outputs": [],
   "source": [
    "%%sql\n",
    "SELECT DISTINCT c.id, c.first_name, SUM(o.total_order_cost) OVER(PARTITION BY c.first_name) AS \"Total Order Cost\"\n",
    "FROM customers c LEFT JOIN orders o\n",
    "ON c.id = o.cust_id\n",
    "ORDER BY c.first_name;"
   ]
  },
  {
   "cell_type": "code",
   "execution_count": null,
   "metadata": {},
   "outputs": [],
   "source": [
    "# Import your libraries\n",
    "import pandas as pd\n",
    "\n",
    "#Create new column in 'customers' for order total, initialize all values to be 0\n",
    "customers['order_total'] = 0\n",
    "for index, row in customers.iterrows(): #Iterate through customers\n",
    "    customer_id = row[0] #Get customer id\n",
    "    df = orders[orders['cust_id'] == customer_id] #Filter orders by specific customer id\n",
    "    customers['order_total'].iloc[index] = df['total_order_cost'].sum() #Sum order totals for specific customer id\n",
    "output=customers.filter(['id', 'first_name', 'order_total']) #Get desired columns\n",
    "output.sort_values('first_name') #Sort by first name ascending"
   ]
  },
  {
   "cell_type": "markdown",
   "metadata": {},
   "source": [
    "### PROBLEM: Salary by Education\n",
    "Given the education levels and salaries of a group of individuals, find what is the average salary for each level of education.\n",
    "\n",
    "Tables: `google_salaries`\n",
    "\n",
    "`table1`                | dtypes\n",
    "------------------------|---------\n",
    "id                      | int\n",
    "first_name              | varchar\n",
    "last_name               | varchar\n",
    "department              | varchar\n",
    "education               | varchar\n",
    "salary                  | int\n",
    "\n",
    "[Link to problem](https://platform.stratascratch.com/coding/2100-salary-by-education)"
   ]
  },
  {
   "cell_type": "code",
   "execution_count": null,
   "metadata": {},
   "outputs": [],
   "source": [
    "%%sql\n",
    "SELECT education, AVG(salary) AS \"avg_salary\"\n",
    "FROM google_salaries\n",
    "GROUP BY education\n",
    "ORDER BY AVG(salary)"
   ]
  },
  {
   "cell_type": "code",
   "execution_count": null,
   "metadata": {},
   "outputs": [],
   "source": [
    "# Import your libraries\n",
    "import pandas as pd\n",
    "\n",
    "#Group by education, aggregate using mean and reset index\n",
    "output = google_salaries.groupby('education')['salary'].mean().reset_index()\n",
    "#Sort by salaries ascending\n",
    "output.sort_values('salary')"
   ]
  },
  {
   "cell_type": "markdown",
   "metadata": {},
   "source": [
    "### PROBLEM: Customer Average Orders\n",
    "How many customers placed an order and what is the average order amount?\n",
    "\n",
    "Tables: `postmates_orders`\n",
    "\n",
    "`postmates_orders`      | dtypes\n",
    "------------------------|---------\n",
    "id                      | int\n",
    "customer_id             | int\n",
    "courier_id              | int\n",
    "seller_id               | int\n",
    "order_timestamp_utc     | datetime\n",
    "amount                  | float\n",
    "city_id                 | int\n",
    "\n",
    "[Link to problem](https://platform.stratascratch.com/coding/2013-customer-average-orders)"
   ]
  },
  {
   "cell_type": "code",
   "execution_count": null,
   "metadata": {},
   "outputs": [],
   "source": [
    "%%sql\n",
    "SELECT COUNT(DISTINCT customer_id) AS \"Number of Customers\", AVG(amount) AS \"Average Order Amount\"\n",
    "FROM postmates_orders;"
   ]
  },
  {
   "cell_type": "code",
   "execution_count": null,
   "metadata": {},
   "outputs": [],
   "source": [
    "# Import your libraries\n",
    "import pandas as pd\n",
    "\n",
    "#Create empty DataFrame\n",
    "output = pd.DataFrame()\n",
    "#Get number of unique customer IDs, add to 'Number of Customers' column\n",
    "output['Number of Customers'] = [postmates_orders['customer_id'].unique().size]\n",
    "#Get mean of order amount, add to 'Average Order Amount' column\n",
    "output['Average Order Amount'] = [postmates_orders['amount'].mean()]"
   ]
  },
  {
   "cell_type": "markdown",
   "metadata": {},
   "source": [
    "# MEDIUM PROBLEMS"
   ]
  },
  {
   "cell_type": "markdown",
   "metadata": {},
   "source": [
    "### PROBLEM: Highest Salary In Department\n",
    "Find the employee with the highest salary per department.\n",
    "Output the department name, employee's first name along with the corresponding salary.\n",
    "\n",
    "Tables: `employee`\n",
    "\n",
    "`employee`      | dtypes\n",
    "----------------|---------\n",
    "id              | int\n",
    "first_name      | varchar\n",
    "last_name       | varchar\n",
    "age             | int\n",
    "sex             | varchar\n",
    "employee_title  | varchar\n",
    "department      | varchar\n",
    "salary          | int\n",
    "target          | int\n",
    "bonus           | int\n",
    "email           | varchar\n",
    "city            | varchar\n",
    "address         | varchar\n",
    "manager_id      | int\n",
    "\n",
    "[Link to problem](https://platform.stratascratch.com/coding/9897-highest-salary-in-department)"
   ]
  },
  {
   "cell_type": "code",
   "execution_count": null,
   "metadata": {},
   "outputs": [],
   "source": [
    "%%sql\n",
    "SELECT first_name, department, salary\n",
    "FROM employee\n",
    "WHERE salary IN (SELECT MAX(salary)\n",
    "                FROM employee\n",
    "                GROUP BY department)"
   ]
  },
  {
   "cell_type": "code",
   "execution_count": null,
   "metadata": {},
   "outputs": [],
   "source": [
    "# Import your libraries\n",
    "import pandas as pd\n",
    "\n",
    "#Create empty list to store indices of desired rows\n",
    "rows = []\n",
    "for dept in employee['department'].unique(): #Iterate through unique departments\n",
    "    df = employee[employee['department'] == dept] #Filter by employees of that department\n",
    "    rows.append(df['salary'].idxmax()) #Get and store index of highest salary employee\n",
    "output = employee.filter(['first_name', 'department', 'salary']) #Get desired columns\n",
    "output = output.iloc[rows] #Filter by indexed rows"
   ]
  },
  {
   "cell_type": "markdown",
   "metadata": {},
   "source": [
    "### PROBLEM: Employee and Manager Salaries\n",
    "Find employees who are earning more than their managers. Output the employee's first name along with the corresponding salary.\n",
    "\n",
    "Tables: `employee`\n",
    "\n",
    "`employee`      | dtypes\n",
    "----------------|---------\n",
    "id              | int\n",
    "first_name      | varchar\n",
    "last_name       | varchar\n",
    "age             | int\n",
    "sex             | varchar\n",
    "employee_title  | varchar\n",
    "department      | varchar\n",
    "salary          | int\n",
    "target          | int\n",
    "bonus           | int\n",
    "email           | varchar\n",
    "city            | varchar\n",
    "address         | varchar\n",
    "manager_id      | int\n",
    "\n",
    "[Link to problem](https://platform.stratascratch.com/coding/9894-employee-and-manager-salaries)"
   ]
  },
  {
   "cell_type": "code",
   "execution_count": null,
   "metadata": {},
   "outputs": [],
   "source": [
    "%%sql\n",
    "SELECT e1.first_name, e1.salary\n",
    "FROM employee e1\n",
    "WHERE e1.salary > (SELECT salary\n",
    "                FROM employee e2\n",
    "                WHERE e1.manager_id = e2.id)"
   ]
  },
  {
   "cell_type": "code",
   "execution_count": null,
   "metadata": {},
   "outputs": [],
   "source": [
    "# Import your libraries\n",
    "import pandas as pd\n",
    "\n",
    "#Add manager salary through merge\n",
    "df = employee.merge(employee.filter(['id', 'salary']), how='left', left_on='manager_id', right_on='id').drop(['id_y'], axis=1)\n",
    "#Get desired columns\n",
    "df = df.filter(['first_name', 'id_x', 'salary_x', 'salary_y'])\n",
    "#Find entries where salary is greater than manager salary\n",
    "df = df[df['salary_x'] > df['salary_y']]"
   ]
  },
  {
   "cell_type": "markdown",
   "metadata": {},
   "source": [
    "### PROBLEM: Top Cool Votes\n",
    "Find the review_text that received the highest number of  'cool' votes.\n",
    "Output the business name along with the review text with the highest numbef of 'cool' votes.\n",
    "\n",
    "Tables: `yelp_reviews`\n",
    "\n",
    "`yelp_reviews`      | dtypes\n",
    "--------------------|---------\n",
    "business_name       | varchar\n",
    "review_id           | varchar\n",
    "user_id             | varchar\n",
    "stars               | varchar\n",
    "review_date         | datetime\n",
    "review_text         | varchar\n",
    "funny               | int\n",
    "useful              | int\n",
    "cool                | int\n",
    "\n",
    "[Link to problem](https://platform.stratascratch.com/coding/10060-top-cool-votes)"
   ]
  },
  {
   "cell_type": "code",
   "execution_count": null,
   "metadata": {},
   "outputs": [],
   "source": [
    "%%sql\n",
    "SELECT business_name, review_text\n",
    "FROM yelp_reviews\n",
    "WHERE cool = (SELECT MAX(cool) FROM yelp_reviews);"
   ]
  },
  {
   "cell_type": "code",
   "execution_count": null,
   "metadata": {},
   "outputs": [],
   "source": [
    "# Import your libraries\n",
    "import pandas as pd\n",
    "\n",
    "#Rename DataFrame\n",
    "df = yelp_reviews.copy()\n",
    "#Find row(s) where cool is maximum\n",
    "df = df[df['cool'] == df['cool'].max()]\n",
    "#Filter desired columns\n",
    "df.filter(['business_name', 'review_text'])"
   ]
  },
  {
   "cell_type": "markdown",
   "metadata": {},
   "source": [
    "### PROBLEM: Customer Revenue In March\n",
    "Calculate the total revenue from each customer in March 2019. Include only customers who were active in March 2019. \n",
    "\n",
    "Output the revenue along with the customer id and sort the results based on the revenue in descending order.\n",
    "\n",
    "Tables: `orders`\n",
    "\n",
    "`orders`        | dtypes\n",
    "----------------|---------\n",
    "id              | int\n",
    "cust_id         | int\n",
    "order_date      | datetime\n",
    "order_details   | varchar\n",
    "total_order_cost| int\n",
    "\n",
    "[Link to problem](https://platform.stratascratch.com/coding/9782-customer-revenue-in-march)"
   ]
  },
  {
   "cell_type": "code",
   "execution_count": null,
   "metadata": {},
   "outputs": [],
   "source": [
    "%%sql\n",
    "SELECT cust_id, SUM(total_order_cost) AS revenue\n",
    "FROM orders\n",
    "WHERE DATE_PART('year', order_date) = 2019 AND DATE_PART('month', order_date) = 3\n",
    "GROUP BY cust_id;"
   ]
  },
  {
   "cell_type": "code",
   "execution_count": null,
   "metadata": {},
   "outputs": [],
   "source": [
    "# Import your libraries\n",
    "import pandas as pd\n",
    "\n",
    "#Filter DataFrame by date to March 2019\n",
    "orders = orders[orders['order_date'].dt.year == 2019]\n",
    "orders = orders[orders['order_date'].dt.month == 3]\n",
    "#Group by id, sum order totals and drop id\n",
    "orders.groupby('cust_id', as_index = False).sum().drop(['id'], axis=1)"
   ]
  },
  {
   "cell_type": "markdown",
   "metadata": {},
   "source": [
    "### PROBLEM: Workers With The Highest Salaries\n",
    "Find the titles of workers that earn the highest salary. Output the highest-paid title or multiple titles that share the highest salary.\n",
    "\n",
    "Tables: `worker`, `title`\n",
    "\n",
    "`worker`        | dtypes\n",
    "----------------|---------\n",
    "worker_id       | int\n",
    "first_name      | varchar\n",
    "last_name       | varchar\n",
    "salary          | int\n",
    "joining_date    | datetime\n",
    "department      | varchar\n",
    "\n",
    "<br/>\n",
    "\n",
    "`title  `       | dtypes\n",
    "----------------|---------\n",
    "worker_ref_id   | int\n",
    "worker_title    | varchar\n",
    "affected_from   | datetime\n",
    "\n",
    "[Link to problem](https://platform.stratascratch.com/coding/10353-workers-with-the-highest-salaries)"
   ]
  },
  {
   "cell_type": "code",
   "execution_count": null,
   "metadata": {},
   "outputs": [],
   "source": [
    "%%sql\n",
    "SELECT DISTINCT t.worker_title, w.salary\n",
    "FROM worker w LEFT JOIN title t\n",
    "ON w.worker_id = t.worker_ref_id\n",
    "WHERE w.salary = (SELECT MAX(salary) FROM worker);"
   ]
  },
  {
   "cell_type": "code",
   "execution_count": null,
   "metadata": {},
   "outputs": [],
   "source": [
    "# Import your libraries\n",
    "import pandas as pd\n",
    "\n",
    "# Merge DataFrames\n",
    "df = worker.merge(title, how='left', left_on='worker_id', right_on='worker_ref_id')\n",
    "# Group by title and find maximum value for each title\n",
    "df = df.groupby('worker_title', as_index=False)['salary'].max()\n",
    "# Find titles where salary is highest salary\n",
    "output = df[df['salary'] == df['salary'].values.max()]"
   ]
  },
  {
   "cell_type": "markdown",
   "metadata": {},
   "source": [
    "### PROBLEM: Find the top 10 ranked songs in 2010\n",
    "What were the top 10 ranked songs in 2010? \n",
    "Output the rank, group name, and song name but do not show the same song twice.\n",
    "Sort the result based on the year_rank in ascending order.\n",
    "\n",
    "Tables: `billboard_top_100_year_end`\n",
    "\n",
    "`billboard_top_100_year_end`    | dtypes\n",
    "--------------------------------|---------\n",
    "id                              | int\n",
    "year                            | int\n",
    "year_rank                       | int\n",
    "group_name                      | varchar\n",
    "artist                          | varchar\n",
    "song_name                       | varchar\n",
    "\n",
    "[Link to problem](https://platform.stratascratch.com/coding/9650-find-the-top-10-ranked-songs-in-2010)"
   ]
  },
  {
   "cell_type": "code",
   "execution_count": null,
   "metadata": {},
   "outputs": [],
   "source": [
    "%%sql\n",
    "SELECT DISTINCT year, year_rank, group_name, song_name\n",
    "FROM billboard_top_100_year_end\n",
    "WHERE year = 2010 AND year_rank <= 10;"
   ]
  },
  {
   "cell_type": "code",
   "execution_count": null,
   "metadata": {},
   "outputs": [],
   "source": [
    "# Import your libraries\n",
    "import pandas as pd\n",
    "\n",
    "# Copy DataFrame\n",
    "df = billboard_top_100_year_end.copy()\n",
    "# Filter by records where year is 2010\n",
    "df = df[df['year'] == 2010]\n",
    "# Filter by records that are top 10 ranked\n",
    "df = df[df['year_rank'] <= 10]\n",
    "# Remove duplicated song names\n",
    "df = df[~df['song_name'].duplicated(keep='first')]\n",
    "# Get desired columns\n",
    "df = df.filter(['year_rank', 'group_name', 'song_name'])\n",
    "#Sort values\n",
    "df = df.sort_values(['year_rank'])"
   ]
  },
  {
   "cell_type": "markdown",
   "metadata": {},
   "source": [
    "### PROBLEM: Top Businesses With Most Reviews\n",
    "Find the top 5 businesses with most reviews. Assume that each row has a unique business_id such that the total reviews for each business is listed on each row. Output the business name along with the total number of reviews and order your results by the total reviews in descending order.\n",
    "\n",
    "Tables: `yelp_business`\n",
    "\n",
    "`yelp_business` | dtypes\n",
    "----------------|---------\n",
    "business_id     | varchar\n",
    "name            | varchar\n",
    "neighborhood    | varchar\n",
    "address         | varchar\n",
    "city            | varchar\n",
    "state           | varchar\n",
    "postal_code     | varchar\n",
    "latitude        | float\n",
    "longitude       | float\n",
    "stars           | float\n",
    "review_count    | int\n",
    "is_open         | int\n",
    "categories:     | varchar\n",
    "\n",
    "[Link to problem](https://platform.stratascratch.com/coding/10048-top-businesses-with-most-reviews)"
   ]
  },
  {
   "cell_type": "code",
   "execution_count": null,
   "metadata": {},
   "outputs": [],
   "source": [
    "%%sql\n",
    "SELECT name, review_count\n",
    "FROM yelp_business\n",
    "ORDER BY review_count DESC\n",
    "LIMIT 5;"
   ]
  },
  {
   "cell_type": "code",
   "execution_count": null,
   "metadata": {},
   "outputs": [],
   "source": [
    "# Import your libraries\n",
    "import pandas as pd\n",
    "\n",
    "# Get desired columns\n",
    "df = yelp_business.filter(['name', 'review_count'])\n",
    "# Sort by review count descending\n",
    "df = df.sort_values('review_count', ascending=False)\n",
    "# Get top 5\n",
    "df = df.head()"
   ]
  },
  {
   "cell_type": "markdown",
   "metadata": {},
   "source": [
    "### PROBLEM: Highest Target Under Manager\n",
    "Find the highest target achieved by the employee or employees who works under the manager id 13. Output the first name of the employee and target achieved. The solution should show the highest target achieved under manager_id=13 and which employee(s) achieved it.\n",
    "\n",
    "Tables: `salesforce_employees`\n",
    "\n",
    "`salesforce_employees`  | dtypes\n",
    "------------------------|---------\n",
    "id                      | int\n",
    "first_name              | varchar\n",
    "last_name               | varchar\n",
    "age                     | int\n",
    "sex                     | varchar\n",
    "employee_title          | varchar\n",
    "department              | varchar\n",
    "salary                  | int\n",
    "target                  | int\n",
    "bonus                   | int\n",
    "email                   | varchar\n",
    "city                    | varchar\n",
    "address                 | varchar\n",
    "manager_id              | int\n",
    "\n",
    "[Link to problem](https://platform.stratascratch.com/coding/9905-highest-target-under-manager)"
   ]
  },
  {
   "cell_type": "code",
   "execution_count": null,
   "metadata": {},
   "outputs": [],
   "source": [
    "%%sql\n",
    "SELECT first_name, target \n",
    "FROM salesforce_employees\n",
    "WHERE manager_id = 13 AND target = (SELECT MAX(target)\n",
    "                                    FROM salesforce_employees\n",
    "                                    WHERE manager_id = 13);"
   ]
  },
  {
   "cell_type": "code",
   "execution_count": null,
   "metadata": {},
   "outputs": [],
   "source": [
    "# Import your libraries\n",
    "import pandas as pd\n",
    "\n",
    "# Make copy of DataFrame with only desired/useful columns\n",
    "df = salesforce_employees.filter(['first_name', 'target', 'manager_id'])\n",
    "# Filter by employees with manager id of 13\n",
    "df = df[df['manager_id'] == 13]\n",
    "# Filter by highest target employee(s)\n",
    "df = df[df['target'] == df['target'].max()].drop('manager_id', axis=1)"
   ]
  },
  {
   "cell_type": "markdown",
   "metadata": {},
   "source": [
    "### PROBLEM: Number of violations\n",
    "You're given a dataset of health inspections. Count the number of violation in an inspection in 'Roxanne Cafe' for each year. If an inspection resulted in a violation, there will be a value in the 'violation_id' column. Output the number of violations by year in ascending order.\n",
    "\n",
    "Tables: `sf_restaurant_health_violations`\n",
    "\n",
    "`sf_restaurant_health_violations`   | dtypes\n",
    "------------------------------------|---------\n",
    "business_id                         | int\n",
    "business_name                       | varchar\n",
    "business_address                    | varchar\n",
    "business_city                       | varchar\n",
    "business_state                      | varchar\n",
    "business_postal_code                | float\n",
    "business_latitude                   | float\n",
    "business_longitude                  | float\n",
    "business_location                   | varchar\n",
    "business_phone_number               | float\n",
    "inspection_id                       | varchar\n",
    "inspection_date                     | varchar\n",
    "inspection_score                    | float\n",
    "inspection_type                     | varchar\n",
    "violation_id                        | varchar\n",
    "violation_description               | varchar\n",
    "risk_category                       | varchar\n",
    "\n",
    "[Link to problem](https://platform.stratascratch.com/coding/9728-inspections-that-resulted-in-violations)"
   ]
  },
  {
   "cell_type": "code",
   "execution_count": null,
   "metadata": {},
   "outputs": [],
   "source": [
    "%%sql\n",
    "SELECT YEAR(inspection_date), COUNT(violation_id)\n",
    "FROM sf_restaurant_health_violations\n",
    "WHERE business_name = 'Roxanne Cafe'\n",
    "GROUP BY YEAR(inspection_date)\n",
    "ORDER BY YEAR(inspection_date);"
   ]
  },
  {
   "cell_type": "code",
   "execution_count": null,
   "metadata": {},
   "outputs": [],
   "source": [
    "# Import your libraries\n",
    "import pandas as pd\n",
    "\n",
    "# Filter by violations at Roxanne Cafe\n",
    "df = sf_restaurant_health_violations[sf_restaurant_health_violations['business_name'] == 'Roxanne Cafe']\n",
    "# Create column for year of inspection\n",
    "df['year'] = df['inspection_date'].dt.year\n",
    "# Group by year and count number of violations\n",
    "df = df.groupby('year', as_index=False)['inspection_id'].count()\n",
    "# Sort by year ascending\n",
    "df.sort_values('year')"
   ]
  },
  {
   "cell_type": "markdown",
   "metadata": {},
   "source": [
    "### PROBLEM: Income By Title and Gender\n",
    "Find the average total compensation based on employee titles and gender. Total compensation is calculated by adding both the salary and bonus of each employee. However, not every employee receives a bonus so disregard employees without bonuses in your calculation. Employee can receive more than one bonus.\n",
    "Output the employee title, gender (i.e., sex), along with the average total compensation.\n",
    "\n",
    "Tables: `sf_employee`, `sf_bonus`\n",
    "\n",
    "`sf_employee`   | dtypes\n",
    "----------------|---------\n",
    "id              | int\n",
    "first_name      | varchar\n",
    "last_name       | varchar\n",
    "age             | int\n",
    "sex             | varchar\n",
    "employee_title  | varchar\n",
    "department      | varchar\n",
    "salary          | int\n",
    "target          | int\n",
    "email           | varchar\n",
    "city            | varchar\n",
    "address         | varchar\n",
    "manager_id      | int\n",
    "\n",
    "<br/>\n",
    "\n",
    "`sf_bonus`      | dtypes\n",
    "----------------|---------\n",
    "worker_ref_id   | int\n",
    "bonus           | int\n",
    "bonus_date      | datetime\n",
    "\n",
    "[Link to problem]()"
   ]
  },
  {
   "cell_type": "code",
   "execution_count": null,
   "metadata": {},
   "outputs": [],
   "source": [
    "%%sql\n",
    "SELECT temp.sex, temp.employee_title, AVG(temp.compensation) AS average_compensation\n",
    "FROM (SELECT e.id, e.employee_title, e.sex, e.salary + SUM(b.bonus) AS compensation\n",
    "    FROM sf_bonus b INNER JOIN sf_employee e\n",
    "    ON b.worker_ref_id = e.id\n",
    "    GROUP BY e.id) temp\n",
    "GROUP BY temp.sex, temp.employee_title\n",
    "ORDER BY AVG(temp.compensation);"
   ]
  },
  {
   "cell_type": "code",
   "execution_count": null,
   "metadata": {},
   "outputs": [],
   "source": [
    "# Import your libraries\n",
    "import pandas as pd\n",
    "\n",
    "# Group by ID to find total bonus for each employee\n",
    "bonuses = sf_bonus.groupby('worker_ref_id', as_index=False)['bonus'].sum()\n",
    "# Merge DataFrames using left join for consistency\n",
    "df = bonuses.merge(sf_employee, how='inner', left_on='worker_ref_id', right_on='id')\n",
    "# Create new column for total compensation\n",
    "df['compensation'] = df['bonus'] + df['salary']\n",
    "# Get desired columns\n",
    "df = df.filter(['compensation', 'sex', 'employee_title'])\n",
    "# Group by title and gender, average compensation\n",
    "output = df.groupby(['employee_title', 'sex'], as_index=False)['compensation'].mean()"
   ]
  },
  {
   "cell_type": "markdown",
   "metadata": {},
   "source": [
    "### PROBLEM: Largest Olympics\n",
    "Find the Olympics with the highest number of athletes. The Olympics game is a combination of the year and the season, and is found in the 'games' column. Output the Olympics along with the corresponding number of athletes.\n",
    "\n",
    "Tables: `olympics_athletes_events`\n",
    "\n",
    "`olympics_athletes_events`  | dtypes\n",
    "----------------------------|---------\n",
    "id                          | int\n",
    "name                        | varchar\n",
    "sex                         | varchar\n",
    "age                         | float\n",
    "height                      | float\n",
    "weight                      | datetime (Error?)\n",
    "team                        | varchar\n",
    "noc                         | varchar\n",
    "games                       | varchar\n",
    "year                        | int\n",
    "season                      | varchar\n",
    "city                        | varchar\n",
    "sport                       | varchar\n",
    "event                       | varchar\n",
    "medal                       | varchar\n",
    "\n",
    "[Link to problem](https://platform.stratascratch.com/coding/9942-largest-olympics)"
   ]
  },
  {
   "cell_type": "code",
   "execution_count": null,
   "metadata": {},
   "outputs": [],
   "source": [
    "%%sql\n",
    "SELECT games, COUNT(DISTINCT id)\n",
    "FROM olympics_athletes_events\n",
    "GROUP BY games\n",
    "ORDER BY COUNT(id) DESC\n",
    "LIMIT 1;"
   ]
  },
  {
   "cell_type": "code",
   "execution_count": null,
   "metadata": {},
   "outputs": [],
   "source": [
    "# Import your libraries\n",
    "import pandas as pd\n",
    "\n",
    "# Start writing code\n",
    "df = olympics_athletes_events.grsoupby('games')['id'].nunique().reset_index().sort_values('id', ascending=False).head(1)"
   ]
  },
  {
   "cell_type": "markdown",
   "metadata": {},
   "source": [
    "# HARD PROBLEMS"
   ]
  },
  {
   "cell_type": "markdown",
   "metadata": {},
   "source": [
    "### PROBLEM: Viewers Turned Streamers\n",
    "From users who had their first session as a viewer, how many streamer sessions have they had? Return the user id and number of sessions in descending order. In case there are users with the same number of sessions, order them by ascending user id.\n",
    "\n",
    "Tables: `table1`\n",
    "\n",
    "`twitch_sessions`   | dtypes\n",
    "--------------------|---------\n",
    "user_id             | int\n",
    "session_start       | datetime\n",
    "session_end         | datetime\n",
    "session_id          | int\n",
    "session_type        | varchar\n",
    "\n",
    "[Link to problem](https://platform.stratascratch.com/coding/2012-viewers-turned-streamers)"
   ]
  },
  {
   "cell_type": "code",
   "execution_count": null,
   "metadata": {},
   "outputs": [],
   "source": [
    "%%sql\n",
    "SELECT user_id, COUNT(session_id)\n",
    "FROM twitch_sessions\n",
    "WHERE user_id IN (SELECT user_id\n",
    "                FROM (SELECT user_id,\n",
    "                            session_type,\n",
    "                            RANK() OVER(PARTITION BY user_id ORDER BY session_start) AS \"stream_rank\"\n",
    "                    FROM twitch_sessions) a\n",
    "                WHERE stream_rank = 1 AND session_type = 'viewer')\n",
    "GROUP BY user_id\n",
    "ORDER BY user_id;"
   ]
  },
  {
   "cell_type": "code",
   "execution_count": null,
   "metadata": {},
   "outputs": [],
   "source": [
    "# Import your libraries\n",
    "import pandas as pd\n",
    "\n",
    "#Make copy of DataFrame\n",
    "df = twitch_sessions.copy()\n",
    "#Rank sessions by session start time\n",
    "df['rank'] = df.groupby('user_id', as_index = True)['session_start'].rank('first')\n",
    "#Sort by uid, rank\n",
    "df.sort_values(['user_id', 'rank'])\n",
    "#Get rows containing first sessions\n",
    "temp_df = df[df['rank'] == 1]\n",
    "#From first sessions get rows where first session is viewer, make list of uids\n",
    "uids = temp_df[temp_df['session_type'] == 'viewer']['user_id'].to_list()\n",
    "#Check original dataframes where uid is in list of desired uids\n",
    "output = df[df['user_id'].isin(uids)]\n",
    "#Group by uid and count number of sessions\n",
    "output.groupby('user_id', as_index = False)['session_id'].count()"
   ]
  },
  {
   "cell_type": "markdown",
   "metadata": {},
   "source": [
    "### PROBLEM: Top 5 States With 5 Star Businesses\n",
    "Find the top 5 states with the most 5 star businesses. Output the state name along with the number of 5-star businesses and order records by the number of 5-star businesses in descending order. In case there are ties in the number of businesses, return all the unique states. If two states have the same result, sort them in alphabetical order.\n",
    "\n",
    "Tables: `yelp_business`\n",
    "\n",
    "`yelp_business` | dtypes\n",
    "----------------|---------\n",
    "business_id     | varchar\n",
    "name            | varchar\n",
    "neighborhood    | varchar\n",
    "address         | varchar\n",
    "city            | varchar\n",
    "state           | varchar\n",
    "postal_code     | varchar\n",
    "latitude        | float\n",
    "longitude       | float\n",
    "stars           | float\n",
    "review_count    | int\n",
    "is_open         | int\n",
    "categories:     | varchar\n",
    "\n",
    "[Link to problem](https://platform.stratascratch.com/coding/10046-top-5-states-with-5-star-businesses)"
   ]
  },
  {
   "cell_type": "code",
   "execution_count": null,
   "metadata": {},
   "outputs": [],
   "source": [
    "%%sql\n",
    "WITH cte AS(SELECT state, num_five_star, RANK() OVER(ORDER BY num_five_star DESC) AS state_rank\n",
    "        FROM (SELECT state, COUNT(stars) AS num_five_star\n",
    "            FROM yelp_business\n",
    "            WHERE stars = 5\n",
    "            GROUP BY state) temp\n",
    "        ORDER BY state_rank, state)\n",
    "SELECT state, num_five_star AS n_businesses\n",
    "FROM cte\n",
    "WHERE state_rank <=5"
   ]
  },
  {
   "cell_type": "code",
   "execution_count": null,
   "metadata": {},
   "outputs": [],
   "source": [
    "# Import your libraries\n",
    "import pandas as pd\n",
    "\n",
    "# Select only businesses with 5 star reviews\n",
    "df = yelp_business[yelp_business['stars'] == 5]\n",
    "# Group 5 star businesses by state and count\n",
    "output = df.groupby('state', as_index=False)['stars'].count()\n",
    "# Rank states by number of 5 star businesses, descending to get most 5 star businesses\n",
    "output['rank'] = output['stars'].rank(method='min', ascending=False)\n",
    "# Limit to top 5 ranks including ties\n",
    "output = output[output['rank'] <= 5]\n",
    "# Sort values by rank and state, both ascending\n",
    "output = output.sort_values(['rank', 'state'])"
   ]
  }
 ],
 "metadata": {
  "interpreter": {
   "hash": "d1afd38e33051f7f0b6d1bfa4c297759d67c79cde33f4b25a646a40304c8f70c"
  },
  "kernelspec": {
   "display_name": "Python 3.10.4 64-bit (windows store)",
   "language": "python",
   "name": "python3"
  },
  "language_info": {
   "codemirror_mode": {
    "name": "ipython",
    "version": 3
   },
   "file_extension": ".py",
   "mimetype": "text/x-python",
   "name": "python",
   "nbconvert_exporter": "python",
   "pygments_lexer": "ipython3",
   "version": "3.10.5"
  },
  "orig_nbformat": 4
 },
 "nbformat": 4,
 "nbformat_minor": 2
}
